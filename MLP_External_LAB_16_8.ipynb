{
  "nbformat": 4,
  "nbformat_minor": 0,
  "metadata": {
    "colab": {
      "name": "MLP_External_LAB_16_8.ipynb",
      "provenance": [],
      "collapsed_sections": []
    },
    "kernelspec": {
      "name": "python3",
      "display_name": "Python 3"
    },
    "language_info": {
      "name": "python"
    }
  },
  "cells": [
    {
      "cell_type": "markdown",
      "metadata": {
        "id": "dztnxIdvQt3_"
      },
      "source": [
        "**Write a program for implementing Dcitonary**\n"
      ]
    },
    {
      "cell_type": "code",
      "metadata": {
        "colab": {
          "base_uri": "https://localhost:8080/"
        },
        "id": "jzHdeDAPOAMf",
        "outputId": "e5323d01-3cf9-4e7d-e4d9-124da7b39d09"
      },
      "source": [
        "#Creating dictionary\n",
        "dic = {\"meghana\":1,\"shruthi\":2,\"Anjana\":3}\n",
        "print(dic)"
      ],
      "execution_count": null,
      "outputs": [
        {
          "output_type": "stream",
          "text": [
            "{'meghana': 1, 'shruthi': 2, 'Anjana': 3}\n"
          ],
          "name": "stdout"
        }
      ]
    },
    {
      "cell_type": "code",
      "metadata": {
        "colab": {
          "base_uri": "https://localhost:8080/"
        },
        "id": "d2tars3NRKSa",
        "outputId": "0eb4e313-8f4d-494a-a567-fba4a7f011f6"
      },
      "source": [
        "#Accessing and updating Dictionary\n",
        "dic = {\"meghana\":1,\"shruthi\":2,\"Anjana\":3}\n",
        "dic[\"Hari\"] = 4\n",
        "print(dic)\n",
        "dic[\"Kausthubh\"] = 15\n",
        "print(dic)"
      ],
      "execution_count": null,
      "outputs": [
        {
          "output_type": "stream",
          "text": [
            "{'meghana': 1, 'shruthi': 2, 'Anjana': 3, 'Hari': 4}\n",
            "{'meghana': 1, 'shruthi': 2, 'Anjana': 3, 'Hari': 4, 'Kausthubh': 15}\n"
          ],
          "name": "stdout"
        }
      ]
    },
    {
      "cell_type": "code",
      "metadata": {
        "colab": {
          "base_uri": "https://localhost:8080/"
        },
        "id": "QxfvPLagRbof",
        "outputId": "d579d184-69e8-4b92-f3a6-1ab207005e09"
      },
      "source": [
        "# Deleting Dictionary\n",
        "del dic[\"shruthi\"]\n",
        "print(dic)"
      ],
      "execution_count": null,
      "outputs": [
        {
          "output_type": "stream",
          "text": [
            "{'meghana': 1, 'Anjana': 3, 'Hari': 4, 'Kausthubh': 15}\n"
          ],
          "name": "stdout"
        }
      ]
    },
    {
      "cell_type": "code",
      "metadata": {
        "colab": {
          "base_uri": "https://localhost:8080/"
        },
        "id": "uxvtmQGyRjX2",
        "outputId": "47fca75d-c4f8-4a58-a009-fac468f146bc"
      },
      "source": [
        "# Copy Dictionary\n",
        "Mydict = {\n",
        "    'Name':\"Meghana\",\n",
        "    \"Branch\":\"AI\",\n",
        "    \"Year\":2\n",
        "}\n",
        "Updatedict = Mydict.copy()\n",
        "print(Updatedict)"
      ],
      "execution_count": null,
      "outputs": [
        {
          "output_type": "stream",
          "text": [
            "{'Name': 'Meghana', 'Branch': 'AI', 'Year': 2}\n"
          ],
          "name": "stdout"
        }
      ]
    },
    {
      "cell_type": "code",
      "metadata": {
        "colab": {
          "base_uri": "https://localhost:8080/"
        },
        "id": "-weKHZ63SITU",
        "outputId": "bdb222eb-da6c-43d9-9224-255ccb88f938"
      },
      "source": [
        "# Dictionary Comprehension\n",
        "squares = {x:x*x for x in range (6)}\n",
        "print(squares)"
      ],
      "execution_count": null,
      "outputs": [
        {
          "output_type": "stream",
          "text": [
            "{0: 0, 1: 1, 2: 4, 3: 9, 4: 16, 5: 25}\n"
          ],
          "name": "stdout"
        }
      ]
    },
    {
      "cell_type": "code",
      "metadata": {
        "colab": {
          "base_uri": "https://localhost:8080/"
        },
        "id": "vJNcCtkfTMiy",
        "outputId": "0e16b94c-dc11-4be2-a05c-f9114933b533"
      },
      "source": [
        "squares = {}\n",
        "for x in range (3):\n",
        "  squares[x] = x*x\n",
        "  print(squares)"
      ],
      "execution_count": null,
      "outputs": [
        {
          "output_type": "stream",
          "text": [
            "{0: 0}\n",
            "{0: 0, 1: 1}\n",
            "{0: 0, 1: 1, 2: 4}\n"
          ],
          "name": "stdout"
        }
      ]
    },
    {
      "cell_type": "code",
      "metadata": {
        "colab": {
          "base_uri": "https://localhost:8080/"
        },
        "id": "vHjgoQEhTXSB",
        "outputId": "5f89edfd-7aa7-479c-950e-4070af12c1e6"
      },
      "source": [
        "# Iterating through a dictonary\n",
        "squares = {1:1,3:9,4:16,5:25}\n",
        "for i in squares:\n",
        "    print(squares[i])"
      ],
      "execution_count": null,
      "outputs": [
        {
          "output_type": "stream",
          "text": [
            "1\n",
            "9\n",
            "16\n",
            "25\n"
          ],
          "name": "stdout"
        }
      ]
    },
    {
      "cell_type": "markdown",
      "metadata": {
        "id": "rz0gqzdMUNzW"
      },
      "source": [
        "**Write a Program for calculating with matrices using numpy**"
      ]
    },
    {
      "cell_type": "markdown",
      "metadata": {
        "id": "0CkdsjbkUU6G"
      },
      "source": [
        "**inv**"
      ]
    },
    {
      "cell_type": "code",
      "metadata": {
        "colab": {
          "base_uri": "https://localhost:8080/"
        },
        "id": "zc4_lwNUTh1i",
        "outputId": "29e7d61d-5f61-47f3-9982-f4d00222808b"
      },
      "source": [
        "import numpy as np\n",
        "A = np.array([[1,2,3],\n",
        "              [-3,-1,3],\n",
        "              [2,9,-4]])\n",
        "print(np.linalg.inv(A))"
      ],
      "execution_count": null,
      "outputs": [
        {
          "output_type": "stream",
          "text": [
            "[[ 0.20909091 -0.31818182 -0.08181818]\n",
            " [ 0.05454545  0.09090909  0.10909091]\n",
            " [ 0.22727273  0.04545455 -0.04545455]]\n"
          ],
          "name": "stdout"
        }
      ]
    },
    {
      "cell_type": "markdown",
      "metadata": {
        "id": "JfOXyRvdawqI"
      },
      "source": [
        "**pinv**"
      ]
    },
    {
      "cell_type": "code",
      "metadata": {
        "colab": {
          "base_uri": "https://localhost:8080/"
        },
        "id": "tOJbNAyYXESx",
        "outputId": "7b324db2-e395-4b53-b115-dfb6a4440d90"
      },
      "source": [
        "print(np.linalg.pinv(A))"
      ],
      "execution_count": null,
      "outputs": [
        {
          "output_type": "stream",
          "text": [
            "[[-0.23  0.35  0.09]\n",
            " [ 0.18 -0.1   0.06]\n",
            " [ 0.29 -0.05 -0.07]]\n"
          ],
          "name": "stdout"
        }
      ]
    },
    {
      "cell_type": "code",
      "metadata": {
        "colab": {
          "base_uri": "https://localhost:8080/",
          "height": 382
        },
        "id": "Agb71tRvdzH2",
        "outputId": "4cb88529-b208-4f9c-9cc3-3a8eb6c8c042"
      },
      "source": [
        "import numpy as np\n",
        "A = np.array([[1,3],\n",
        "              [2,6]])\n",
        "print(np.linalg.inv(A))\n",
        "# It returns error as inv doesnt deal with singular matrix"
      ],
      "execution_count": null,
      "outputs": [
        {
          "output_type": "error",
          "ename": "LinAlgError",
          "evalue": "ignored",
          "traceback": [
            "\u001b[0;31m---------------------------------------------------------------------------\u001b[0m",
            "\u001b[0;31mLinAlgError\u001b[0m                               Traceback (most recent call last)",
            "\u001b[0;32m<ipython-input-39-70b27c36d2b0>\u001b[0m in \u001b[0;36m<module>\u001b[0;34m()\u001b[0m\n\u001b[1;32m      2\u001b[0m A = np.array([[1,3],\n\u001b[1;32m      3\u001b[0m               [2,6]])\n\u001b[0;32m----> 4\u001b[0;31m \u001b[0mprint\u001b[0m\u001b[0;34m(\u001b[0m\u001b[0mnp\u001b[0m\u001b[0;34m.\u001b[0m\u001b[0mlinalg\u001b[0m\u001b[0;34m.\u001b[0m\u001b[0minv\u001b[0m\u001b[0;34m(\u001b[0m\u001b[0mA\u001b[0m\u001b[0;34m)\u001b[0m\u001b[0;34m)\u001b[0m\u001b[0;34m\u001b[0m\u001b[0;34m\u001b[0m\u001b[0m\n\u001b[0m",
            "\u001b[0;32m<__array_function__ internals>\u001b[0m in \u001b[0;36minv\u001b[0;34m(*args, **kwargs)\u001b[0m\n",
            "\u001b[0;32m/usr/local/lib/python3.7/dist-packages/numpy/linalg/linalg.py\u001b[0m in \u001b[0;36minv\u001b[0;34m(a)\u001b[0m\n\u001b[1;32m    544\u001b[0m     \u001b[0msignature\u001b[0m \u001b[0;34m=\u001b[0m \u001b[0;34m'D->D'\u001b[0m \u001b[0;32mif\u001b[0m \u001b[0misComplexType\u001b[0m\u001b[0;34m(\u001b[0m\u001b[0mt\u001b[0m\u001b[0;34m)\u001b[0m \u001b[0;32melse\u001b[0m \u001b[0;34m'd->d'\u001b[0m\u001b[0;34m\u001b[0m\u001b[0;34m\u001b[0m\u001b[0m\n\u001b[1;32m    545\u001b[0m     \u001b[0mextobj\u001b[0m \u001b[0;34m=\u001b[0m \u001b[0mget_linalg_error_extobj\u001b[0m\u001b[0;34m(\u001b[0m\u001b[0m_raise_linalgerror_singular\u001b[0m\u001b[0;34m)\u001b[0m\u001b[0;34m\u001b[0m\u001b[0;34m\u001b[0m\u001b[0m\n\u001b[0;32m--> 546\u001b[0;31m     \u001b[0mainv\u001b[0m \u001b[0;34m=\u001b[0m \u001b[0m_umath_linalg\u001b[0m\u001b[0;34m.\u001b[0m\u001b[0minv\u001b[0m\u001b[0;34m(\u001b[0m\u001b[0ma\u001b[0m\u001b[0;34m,\u001b[0m \u001b[0msignature\u001b[0m\u001b[0;34m=\u001b[0m\u001b[0msignature\u001b[0m\u001b[0;34m,\u001b[0m \u001b[0mextobj\u001b[0m\u001b[0;34m=\u001b[0m\u001b[0mextobj\u001b[0m\u001b[0;34m)\u001b[0m\u001b[0;34m\u001b[0m\u001b[0;34m\u001b[0m\u001b[0m\n\u001b[0m\u001b[1;32m    547\u001b[0m     \u001b[0;32mreturn\u001b[0m \u001b[0mwrap\u001b[0m\u001b[0;34m(\u001b[0m\u001b[0mainv\u001b[0m\u001b[0;34m.\u001b[0m\u001b[0mastype\u001b[0m\u001b[0;34m(\u001b[0m\u001b[0mresult_t\u001b[0m\u001b[0;34m,\u001b[0m \u001b[0mcopy\u001b[0m\u001b[0;34m=\u001b[0m\u001b[0;32mFalse\u001b[0m\u001b[0;34m)\u001b[0m\u001b[0;34m)\u001b[0m\u001b[0;34m\u001b[0m\u001b[0;34m\u001b[0m\u001b[0m\n\u001b[1;32m    548\u001b[0m \u001b[0;34m\u001b[0m\u001b[0m\n",
            "\u001b[0;32m/usr/local/lib/python3.7/dist-packages/numpy/linalg/linalg.py\u001b[0m in \u001b[0;36m_raise_linalgerror_singular\u001b[0;34m(err, flag)\u001b[0m\n\u001b[1;32m     86\u001b[0m \u001b[0;34m\u001b[0m\u001b[0m\n\u001b[1;32m     87\u001b[0m \u001b[0;32mdef\u001b[0m \u001b[0m_raise_linalgerror_singular\u001b[0m\u001b[0;34m(\u001b[0m\u001b[0merr\u001b[0m\u001b[0;34m,\u001b[0m \u001b[0mflag\u001b[0m\u001b[0;34m)\u001b[0m\u001b[0;34m:\u001b[0m\u001b[0;34m\u001b[0m\u001b[0;34m\u001b[0m\u001b[0m\n\u001b[0;32m---> 88\u001b[0;31m     \u001b[0;32mraise\u001b[0m \u001b[0mLinAlgError\u001b[0m\u001b[0;34m(\u001b[0m\u001b[0;34m\"Singular matrix\"\u001b[0m\u001b[0;34m)\u001b[0m\u001b[0;34m\u001b[0m\u001b[0;34m\u001b[0m\u001b[0m\n\u001b[0m\u001b[1;32m     89\u001b[0m \u001b[0;34m\u001b[0m\u001b[0m\n\u001b[1;32m     90\u001b[0m \u001b[0;32mdef\u001b[0m \u001b[0m_raise_linalgerror_nonposdef\u001b[0m\u001b[0;34m(\u001b[0m\u001b[0merr\u001b[0m\u001b[0;34m,\u001b[0m \u001b[0mflag\u001b[0m\u001b[0;34m)\u001b[0m\u001b[0;34m:\u001b[0m\u001b[0;34m\u001b[0m\u001b[0;34m\u001b[0m\u001b[0m\n",
            "\u001b[0;31mLinAlgError\u001b[0m: Singular matrix"
          ]
        }
      ]
    },
    {
      "cell_type": "code",
      "metadata": {
        "colab": {
          "base_uri": "https://localhost:8080/"
        },
        "id": "fwLJ_L1tfvWW",
        "outputId": "8f1cb49c-c441-4d93-c23d-ff7206b0a34a"
      },
      "source": [
        "import numpy as np\n",
        "A = np.array([[1,3],\n",
        "              [2,6]])\n",
        "print(np.linalg.pinv(A))"
      ],
      "execution_count": null,
      "outputs": [
        {
          "output_type": "stream",
          "text": [
            "[[0.02 0.04]\n",
            " [0.06 0.12]]\n"
          ],
          "name": "stdout"
        }
      ]
    },
    {
      "cell_type": "markdown",
      "metadata": {
        "id": "HLSDJE6NaubI"
      },
      "source": [
        "**Matrix rank**"
      ]
    },
    {
      "cell_type": "code",
      "metadata": {
        "colab": {
          "base_uri": "https://localhost:8080/"
        },
        "id": "Uu-O172zXrF6",
        "outputId": "5a27e6b7-86cd-4c45-e6d9-9fc255598e63"
      },
      "source": [
        "print(np.linalg.matrix_rank(A))"
      ],
      "execution_count": null,
      "outputs": [
        {
          "output_type": "stream",
          "text": [
            "3\n"
          ],
          "name": "stdout"
        }
      ]
    },
    {
      "cell_type": "markdown",
      "metadata": {
        "id": "SrLg9TC8asJg"
      },
      "source": [
        "**LSTSQ**"
      ]
    },
    {
      "cell_type": "code",
      "metadata": {
        "colab": {
          "base_uri": "https://localhost:8080/"
        },
        "id": "IdGasmGuXt3j",
        "outputId": "81d3f774-b8e4-42ea-d729-f1bd7b8f9241"
      },
      "source": [
        "x = np.array([[0, 1], [2, 3]])\n",
        "y = np.array([[1, 0.2], [2.1, 2.1]])\n",
        "np.linalg.lstsq(x,y)"
      ],
      "execution_count": null,
      "outputs": [
        {
          "output_type": "stream",
          "text": [
            "/usr/local/lib/python3.7/dist-packages/ipykernel_launcher.py:3: FutureWarning: `rcond` parameter will change to the default of machine precision times ``max(M, N)`` where M and N are the input matrix dimensions.\n",
            "To use the future default and silence this warning we advise to pass `rcond=None`, to keep using the old, explicitly pass `rcond=-1`.\n",
            "  This is separate from the ipykernel package so we can avoid doing imports until\n"
          ],
          "name": "stderr"
        },
        {
          "output_type": "execute_result",
          "data": {
            "text/plain": [
              "(array([[-0.45,  0.75],\n",
              "        [ 1.  ,  0.2 ]]),\n",
              " array([], dtype=float64),\n",
              " 2,\n",
              " array([3.70245917, 0.54018151]))"
            ]
          },
          "metadata": {
            "tags": []
          },
          "execution_count": 22
        }
      ]
    },
    {
      "cell_type": "markdown",
      "metadata": {
        "id": "minFGn0-ZWS4"
      },
      "source": [
        "**SVG**"
      ]
    },
    {
      "cell_type": "code",
      "metadata": {
        "colab": {
          "base_uri": "https://localhost:8080/"
        },
        "id": "xmeVKMYQYR6X",
        "outputId": "caf8e3eb-9e80-4b06-b7ce-b97ab7b57182"
      },
      "source": [
        "a = np.random.randn(9, 6) + 1j*np.random.randn(9, 6)\n",
        "b = np.random.randn(2, 7, 8, 3) + 1j*np.random.randn(2, 7, 8, 3)\n",
        "m, n, vh = np.linalg.svd(a, full_matrices=True)\n",
        "m.shape, n.shape, vh.shape"
      ],
      "execution_count": null,
      "outputs": [
        {
          "output_type": "execute_result",
          "data": {
            "text/plain": [
              "((9, 9), (6,), (6, 6))"
            ]
          },
          "metadata": {
            "tags": []
          },
          "execution_count": 23
        }
      ]
    },
    {
      "cell_type": "markdown",
      "metadata": {
        "id": "uZRvXFQZZU2f"
      },
      "source": [
        "**Transpose**"
      ]
    },
    {
      "cell_type": "code",
      "metadata": {
        "colab": {
          "base_uri": "https://localhost:8080/"
        },
        "id": "SpXhLHkUYrBj",
        "outputId": "dba0683b-cd74-4f9c-ddac-a03730c8339b"
      },
      "source": [
        "a = np.array([[1, 2], [3, 4]])\n",
        "a.transpose()"
      ],
      "execution_count": null,
      "outputs": [
        {
          "output_type": "execute_result",
          "data": {
            "text/plain": [
              "array([[1, 3],\n",
              "       [2, 4]])"
            ]
          },
          "metadata": {
            "tags": []
          },
          "execution_count": 24
        }
      ]
    },
    {
      "cell_type": "markdown",
      "metadata": {
        "id": "j-2qfL34ZTdu"
      },
      "source": [
        "**EIG**"
      ]
    },
    {
      "cell_type": "code",
      "metadata": {
        "colab": {
          "base_uri": "https://localhost:8080/"
        },
        "id": "P-Z-SMZRZDM3",
        "outputId": "61bbe7bd-631f-4e0e-ff82-8e010e6d2c8e"
      },
      "source": [
        "from numpy import linalg as LA\n",
        "w, v = LA.eig(np.diag((1, 2, 3)))\n",
        "v"
      ],
      "execution_count": null,
      "outputs": [
        {
          "output_type": "execute_result",
          "data": {
            "text/plain": [
              "array([[1., 0., 0.],\n",
              "       [0., 1., 0.],\n",
              "       [0., 0., 1.]])"
            ]
          },
          "metadata": {
            "tags": []
          },
          "execution_count": 25
        }
      ]
    },
    {
      "cell_type": "markdown",
      "metadata": {
        "id": "FyC2dMxIaqQq"
      },
      "source": [
        "**sort**"
      ]
    },
    {
      "cell_type": "code",
      "metadata": {
        "colab": {
          "base_uri": "https://localhost:8080/"
        },
        "id": "K7fI1ipwZSlP",
        "outputId": "d6c30252-487c-44f7-c020-3f718a5b135e"
      },
      "source": [
        "a = np.array([[1,4],[3,1]])\n",
        "np.sort(a) "
      ],
      "execution_count": null,
      "outputs": [
        {
          "output_type": "execute_result",
          "data": {
            "text/plain": [
              "array([[1, 4],\n",
              "       [1, 3]])"
            ]
          },
          "metadata": {
            "tags": []
          },
          "execution_count": 26
        }
      ]
    },
    {
      "cell_type": "markdown",
      "metadata": {
        "id": "IloHVF92aonI"
      },
      "source": [
        "**linspace**"
      ]
    },
    {
      "cell_type": "code",
      "metadata": {
        "colab": {
          "base_uri": "https://localhost:8080/"
        },
        "id": "uwcdc9yNaQ1O",
        "outputId": "467d1c3f-ef04-4c87-df3c-9ac3dc4fe13d"
      },
      "source": [
        "a=np.linspace(2.0, 3.0, num=7)\n",
        "a"
      ],
      "execution_count": null,
      "outputs": [
        {
          "output_type": "execute_result",
          "data": {
            "text/plain": [
              "array([2.        , 2.16666667, 2.33333333, 2.5       , 2.66666667,\n",
              "       2.83333333, 3.        ])"
            ]
          },
          "metadata": {
            "tags": []
          },
          "execution_count": 27
        }
      ]
    }
  ]
}